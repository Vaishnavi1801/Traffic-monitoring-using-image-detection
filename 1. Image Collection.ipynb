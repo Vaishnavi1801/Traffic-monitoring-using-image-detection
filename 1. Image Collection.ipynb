{
 "cells": [
  {
   "cell_type": "markdown",
   "metadata": {},
   "source": [
    "# 1. Import Dependencies"
   ]
  },
  {
   "cell_type": "code",
   "execution_count": 1,
   "metadata": {},
   "outputs": [
    {
     "name": "stdout",
     "output_type": "stream",
     "text": [
      "Requirement already satisfied: opencv-python in e:\\tensorflow object detection\\tfodcourse\\tfod\\lib\\site-packages (4.5.5.62)\n",
      "Requirement already satisfied: numpy>=1.14.5 in e:\\tensorflow object detection\\tfodcourse\\tfod\\lib\\site-packages (from opencv-python) (1.19.5)\n"
     ]
    },
    {
     "name": "stderr",
     "output_type": "stream",
     "text": [
      "WARNING: Ignoring invalid distribution -otobuf (e:\\tensorflow object detection\\tfodcourse\\tfod\\lib\\site-packages)\n",
      "WARNING: Ignoring invalid distribution -rotobuf (e:\\tensorflow object detection\\tfodcourse\\tfod\\lib\\site-packages)\n",
      "WARNING: Ignoring invalid distribution -otobuf (e:\\tensorflow object detection\\tfodcourse\\tfod\\lib\\site-packages)\n",
      "WARNING: Ignoring invalid distribution - (e:\\tensorflow object detection\\tfodcourse\\tfod\\lib\\site-packages)\n",
      "WARNING: Ignoring invalid distribution -otobuf (e:\\tensorflow object detection\\tfodcourse\\tfod\\lib\\site-packages)\n",
      "WARNING: Ignoring invalid distribution -rotobuf (e:\\tensorflow object detection\\tfodcourse\\tfod\\lib\\site-packages)\n",
      "WARNING: Ignoring invalid distribution -otobuf (e:\\tensorflow object detection\\tfodcourse\\tfod\\lib\\site-packages)\n",
      "WARNING: Ignoring invalid distribution - (e:\\tensorflow object detection\\tfodcourse\\tfod\\lib\\site-packages)\n",
      "WARNING: Ignoring invalid distribution -otobuf (e:\\tensorflow object detection\\tfodcourse\\tfod\\lib\\site-packages)\n",
      "WARNING: Ignoring invalid distribution -rotobuf (e:\\tensorflow object detection\\tfodcourse\\tfod\\lib\\site-packages)\n",
      "WARNING: Ignoring invalid distribution -otobuf (e:\\tensorflow object detection\\tfodcourse\\tfod\\lib\\site-packages)\n",
      "WARNING: Ignoring invalid distribution - (e:\\tensorflow object detection\\tfodcourse\\tfod\\lib\\site-packages)\n",
      "WARNING: Ignoring invalid distribution -otobuf (e:\\tensorflow object detection\\tfodcourse\\tfod\\lib\\site-packages)\n",
      "WARNING: Ignoring invalid distribution -rotobuf (e:\\tensorflow object detection\\tfodcourse\\tfod\\lib\\site-packages)\n",
      "WARNING: Ignoring invalid distribution -otobuf (e:\\tensorflow object detection\\tfodcourse\\tfod\\lib\\site-packages)\n",
      "WARNING: Ignoring invalid distribution - (e:\\tensorflow object detection\\tfodcourse\\tfod\\lib\\site-packages)\n",
      "WARNING: Ignoring invalid distribution -otobuf (e:\\tensorflow object detection\\tfodcourse\\tfod\\lib\\site-packages)\n",
      "WARNING: Ignoring invalid distribution -rotobuf (e:\\tensorflow object detection\\tfodcourse\\tfod\\lib\\site-packages)\n",
      "WARNING: Ignoring invalid distribution -otobuf (e:\\tensorflow object detection\\tfodcourse\\tfod\\lib\\site-packages)\n",
      "WARNING: Ignoring invalid distribution - (e:\\tensorflow object detection\\tfodcourse\\tfod\\lib\\site-packages)\n"
     ]
    }
   ],
   "source": [
    "!pip install opencv-python"
   ]
  },
  {
   "cell_type": "code",
   "execution_count": 2,
   "metadata": {},
   "outputs": [],
   "source": [
    "# Import opencv\n",
    "import cv2 \n",
    "\n",
    "# Import uuid\n",
    "import uuid\n",
    "\n",
    "# Import Operating System\n",
    "import os\n",
    "\n",
    "# Import time\n",
    "import time"
   ]
  },
  {
   "cell_type": "markdown",
   "metadata": {},
   "source": [
    "# 2. Define Images to Collect"
   ]
  },
  {
   "cell_type": "code",
   "execution_count": 3,
   "metadata": {},
   "outputs": [],
   "source": [
    "labels = ['ambulance', 'car', 'bike',]\n",
    "number_imgs = 3"
   ]
  },
  {
   "cell_type": "markdown",
   "metadata": {},
   "source": [
    "# 3. Setup Folders "
   ]
  },
  {
   "cell_type": "code",
   "execution_count": 4,
   "metadata": {},
   "outputs": [],
   "source": [
    "IMAGES_PATH = os.path.join('Tensorflow', 'workspace', 'images', 'collectedimages')"
   ]
  },
  {
   "cell_type": "code",
   "execution_count": 5,
   "metadata": {},
   "outputs": [
    {
     "name": "stdout",
     "output_type": "stream",
     "text": [
      "Tensorflow\\workspace\\images\\collectedimages\n"
     ]
    }
   ],
   "source": [
    "print(IMAGES_PATH)"
   ]
  },
  {
   "cell_type": "code",
   "execution_count": 6,
   "metadata": {},
   "outputs": [
    {
     "data": {
      "text/plain": [
       "'nt'"
      ]
     },
     "execution_count": 6,
     "metadata": {},
     "output_type": "execute_result"
    }
   ],
   "source": [
    "os.name"
   ]
  },
  {
   "cell_type": "code",
   "execution_count": 7,
   "metadata": {},
   "outputs": [],
   "source": [
    "if not os.path.exists(IMAGES_PATH):\n",
    "    if os.name == 'posix':\n",
    "        !mkdir -p {IMAGES_PATH}\n",
    "    if os.name == 'nt':\n",
    "         !mkdir {IMAGES_PATH}\n",
    "for label in labels:\n",
    "    path = os.path.join(IMAGES_PATH, label)\n",
    "    if not os.path.exists(path):\n",
    "        !mkdir {path}"
   ]
  },
  {
   "cell_type": "markdown",
   "metadata": {},
   "source": [
    "# 4. Capture Images"
   ]
  },
  {
   "cell_type": "code",
   "execution_count": 8,
   "metadata": {},
   "outputs": [
    {
     "data": {
      "text/plain": [
       "\"for label in labels:\\n    cap = cv2.VideoCapture(0)\\n    print('Collecting images for {}'.format(label))\\n    time.sleep(5)\\n    for imgnum in range(number_imgs):\\n        print('Collecting image {}'.format(imgnum))\\n        ret, frame = cap.read()\\n        imgname = os.path.join(IMAGES_PATH,label,label+'.'+'{}.jpg'.format(str(uuid.uuid1())))\\n        cv2.imwrite(imgname, frame)\\n        cv2.imshow('frame', frame)\\n        time.sleep(2)\\n\\n        if cv2.waitKey(1) & 0xFF == ord('q'):\\n            break\\ncap.release()\\ncv2.destroyAllWindows()\\n\""
      ]
     },
     "execution_count": 8,
     "metadata": {},
     "output_type": "execute_result"
    }
   ],
   "source": [
    "'''for label in labels:\n",
    "    cap = cv2.VideoCapture(0)\n",
    "    print('Collecting images for {}'.format(label))\n",
    "    time.sleep(5)\n",
    "    for imgnum in range(number_imgs):\n",
    "        print('Collecting image {}'.format(imgnum))\n",
    "        ret, frame = cap.read()\n",
    "        imgname = os.path.join(IMAGES_PATH,label,label+'.'+'{}.jpg'.format(str(uuid.uuid1())))\n",
    "        cv2.imwrite(imgname, frame)\n",
    "        cv2.imshow('frame', frame)\n",
    "        time.sleep(2)\n",
    "\n",
    "        if cv2.waitKey(1) & 0xFF == ord('q'):\n",
    "            break\n",
    "cap.release()\n",
    "cv2.destroyAllWindows()\n",
    "'''"
   ]
  },
  {
   "cell_type": "markdown",
   "metadata": {},
   "source": [
    "# 5. Image Labelling"
   ]
  },
  {
   "cell_type": "code",
   "execution_count": 9,
   "metadata": {},
   "outputs": [
    {
     "name": "stdout",
     "output_type": "stream",
     "text": [
      "Requirement already satisfied: pyqt5 in e:\\tensorflow object detection\\tfodcourse\\tfod\\lib\\site-packages (5.15.6)\n",
      "Requirement already satisfied: lxml in e:\\tensorflow object detection\\tfodcourse\\tfod\\lib\\site-packages (4.7.1)\n",
      "Requirement already satisfied: PyQt5-Qt5>=5.15.2 in e:\\tensorflow object detection\\tfodcourse\\tfod\\lib\\site-packages (from pyqt5) (5.15.2)\n",
      "Requirement already satisfied: PyQt5-sip<13,>=12.8 in e:\\tensorflow object detection\\tfodcourse\\tfod\\lib\\site-packages (from pyqt5) (12.9.0)\n"
     ]
    },
    {
     "name": "stderr",
     "output_type": "stream",
     "text": [
      "WARNING: Ignoring invalid distribution -otobuf (e:\\tensorflow object detection\\tfodcourse\\tfod\\lib\\site-packages)\n",
      "WARNING: Ignoring invalid distribution -rotobuf (e:\\tensorflow object detection\\tfodcourse\\tfod\\lib\\site-packages)\n",
      "WARNING: Ignoring invalid distribution -otobuf (e:\\tensorflow object detection\\tfodcourse\\tfod\\lib\\site-packages)\n",
      "WARNING: Ignoring invalid distribution - (e:\\tensorflow object detection\\tfodcourse\\tfod\\lib\\site-packages)\n",
      "WARNING: Ignoring invalid distribution -otobuf (e:\\tensorflow object detection\\tfodcourse\\tfod\\lib\\site-packages)\n",
      "WARNING: Ignoring invalid distribution -rotobuf (e:\\tensorflow object detection\\tfodcourse\\tfod\\lib\\site-packages)\n",
      "WARNING: Ignoring invalid distribution -otobuf (e:\\tensorflow object detection\\tfodcourse\\tfod\\lib\\site-packages)\n",
      "WARNING: Ignoring invalid distribution - (e:\\tensorflow object detection\\tfodcourse\\tfod\\lib\\site-packages)\n",
      "WARNING: Ignoring invalid distribution -otobuf (e:\\tensorflow object detection\\tfodcourse\\tfod\\lib\\site-packages)\n",
      "WARNING: Ignoring invalid distribution -rotobuf (e:\\tensorflow object detection\\tfodcourse\\tfod\\lib\\site-packages)\n",
      "WARNING: Ignoring invalid distribution -otobuf (e:\\tensorflow object detection\\tfodcourse\\tfod\\lib\\site-packages)\n",
      "WARNING: Ignoring invalid distribution - (e:\\tensorflow object detection\\tfodcourse\\tfod\\lib\\site-packages)\n",
      "WARNING: Ignoring invalid distribution -otobuf (e:\\tensorflow object detection\\tfodcourse\\tfod\\lib\\site-packages)\n",
      "WARNING: Ignoring invalid distribution -rotobuf (e:\\tensorflow object detection\\tfodcourse\\tfod\\lib\\site-packages)\n",
      "WARNING: Ignoring invalid distribution -otobuf (e:\\tensorflow object detection\\tfodcourse\\tfod\\lib\\site-packages)\n",
      "WARNING: Ignoring invalid distribution - (e:\\tensorflow object detection\\tfodcourse\\tfod\\lib\\site-packages)\n",
      "WARNING: Ignoring invalid distribution -otobuf (e:\\tensorflow object detection\\tfodcourse\\tfod\\lib\\site-packages)\n",
      "WARNING: Ignoring invalid distribution -rotobuf (e:\\tensorflow object detection\\tfodcourse\\tfod\\lib\\site-packages)\n",
      "WARNING: Ignoring invalid distribution -otobuf (e:\\tensorflow object detection\\tfodcourse\\tfod\\lib\\site-packages)\n",
      "WARNING: Ignoring invalid distribution - (e:\\tensorflow object detection\\tfodcourse\\tfod\\lib\\site-packages)\n"
     ]
    }
   ],
   "source": [
    "!pip install --upgrade pyqt5 lxml"
   ]
  },
  {
   "cell_type": "code",
   "execution_count": 10,
   "metadata": {},
   "outputs": [
    {
     "name": "stdout",
     "output_type": "stream",
     "text": [
      "Package                       Version   Editable project location\n",
      "----------------------------- --------- -------------------------------------------------------------------------\n",
      "absl-py                       1.0.0\n",
      "apache-beam                   2.36.0rc1\n",
      "astunparse                    1.6.3\n",
      "async-generator               1.10\n",
      "attrs                         21.4.0\n",
      "avro-python3                  1.9.2.1\n",
      "backcall                      0.2.0\n",
      "bleach                        4.1.0\n",
      "cached-property               1.5.2\n",
      "cachetools                    5.0.0\n",
      "certifi                       2021.10.8\n",
      "chardet                       4.0.0\n",
      "charset-normalizer            2.0.10\n",
      "cloudpickle                   2.0.0\n",
      "colorama                      0.4.4\n",
      "contextlib2                   21.6.0\n",
      "crcmod                        1.7\n",
      "cycler                        0.11.0\n",
      "Cython                        0.29.27\n",
      "decorator                     5.1.1\n"
     ]
    },
    {
     "name": "stderr",
     "output_type": "stream",
     "text": [
      "WARNING: Ignoring invalid distribution -otobuf (e:\\tensorflow object detection\\tfodcourse\\tfod\\lib\\site-packages)\n",
      "WARNING: Ignoring invalid distribution -rotobuf (e:\\tensorflow object detection\\tfodcourse\\tfod\\lib\\site-packages)\n",
      "WARNING: Ignoring invalid distribution -otobuf (e:\\tensorflow object detection\\tfodcourse\\tfod\\lib\\site-packages)\n",
      "WARNING: Ignoring invalid distribution - (e:\\tensorflow object detection\\tfodcourse\\tfod\\lib\\site-packages)\n",
      "WARNING: Ignoring invalid distribution -otobuf (e:\\tensorflow object detection\\tfodcourse\\tfod\\lib\\site-packages)\n",
      "WARNING: Ignoring invalid distribution -rotobuf (e:\\tensorflow object detection\\tfodcourse\\tfod\\lib\\site-packages)\n",
      "WARNING: Ignoring invalid distribution -otobuf (e:\\tensorflow object detection\\tfodcourse\\tfod\\lib\\site-packages)\n",
      "WARNING: Ignoring invalid distribution - (e:\\tensorflow object detection\\tfodcourse\\tfod\\lib\\site-packages)\n",
      "WARNING: Ignoring invalid distribution -otobuf (e:\\tensorflow object detection\\tfodcourse\\tfod\\lib\\site-packages)\n",
      "WARNING: Ignoring invalid distribution -rotobuf (e:\\tensorflow object detection\\tfodcourse\\tfod\\lib\\site-packages)\n",
      "WARNING: Ignoring invalid distribution -otobuf (e:\\tensorflow object detection\\tfodcourse\\tfod\\lib\\site-packages)\n",
      "WARNING: Ignoring invalid distribution - (e:\\tensorflow object detection\\tfodcourse\\tfod\\lib\\site-packages)\n"
     ]
    },
    {
     "name": "stdout",
     "output_type": "stream",
     "text": [
      "defusedxml                    0.7.1\n",
      "dill                          0.3.1.1\n",
      "dm-tree                       0.1.6\n",
      "docopt                        0.6.2\n",
      "entrypoints                   0.3\n",
      "fastavro                      1.4.9\n",
      "flatbuffers                   2.0\n",
      "future                        0.18.2\n",
      "gast                          0.4.0\n",
      "gin                           0.1.6\n",
      "gin-config                    0.1.1\n",
      "google-api-core               2.4.0\n",
      "google-api-python-client      2.36.0\n",
      "google-auth                   2.5.0\n",
      "google-auth-httplib2          0.1.0\n",
      "google-auth-oauthlib          0.4.6\n",
      "google-pasta                  0.2.0\n",
      "googleapis-common-protos      1.54.0\n",
      "grpcio                        1.43.0\n",
      "h5py                          3.6.0\n",
      "hdfs                          2.6.0\n",
      "httplib2                      0.19.1\n",
      "idna                          2.10\n",
      "importlib-metadata            4.8.3\n",
      "importlib-resources           5.4.0\n",
      "ipykernel                     5.5.6\n",
      "ipython                       7.16.3\n",
      "ipython-genutils              0.2.0\n",
      "jedi                          0.17.2\n",
      "Jinja2                        3.0.3\n",
      "joblib                        1.1.0\n",
      "jsonschema                    3.2.0\n",
      "jupyter-client                6.1.12\n",
      "jupyter-core                  4.9.1\n",
      "jupyterlab-pygments           0.1.2\n",
      "kaggle                        1.5.12\n",
      "keras                         2.7.0\n",
      "Keras-Preprocessing           1.1.2\n",
      "kiwisolver                    1.3.2\n",
      "libclang                      13.0.0\n",
      "lvis                          0.5.3\n",
      "lxml                          4.7.1\n",
      "Markdown                      3.3.6\n",
      "MarkupSafe                    2.0.1\n",
      "matplotlib                    3.2.0\n",
      "mistune                       0.8.4\n",
      "nbclient                      0.5.1\n",
      "nbconvert                     6.4.1\n",
      "nbformat                      5.1.3\n",
      "nest-asyncio                  1.5.4\n",
      "numpy                         1.19.5\n",
      "oauth2client                  4.1.3\n",
      "oauthlib                      3.1.1\n",
      "object-detection              0.1\n",
      "opencv-python                 4.5.5.62\n",
      "opt-einsum                    3.3.0\n",
      "orjson                        3.6.6\n",
      "packaging                     21.3\n",
      "pandas                        1.3.5\n",
      "pandocfilters                 1.5.0\n",
      "parso                         0.7.1\n",
      "pickleshare                   0.7.5\n",
      "Pillow                        9.0.0\n",
      "pip                           21.3.1\n",
      "portalocker                   2.3.2\n",
      "promise                       2.3\n",
      "prompt-toolkit                3.0.3\n",
      "proto-plus                    1.19.9\n",
      "protobuf                      3.19.4\n",
      "psutil                        5.9.0\n",
      "py-cpuinfo                    8.0.0\n",
      "pyarrow                       2.0.0\n",
      "pyasn1                        0.4.8\n",
      "pyasn1-modules                0.2.8\n",
      "pycocotools                   2.0.4\n",
      "pydot                         1.4.2\n",
      "Pygments                      2.11.2\n",
      "pymongo                       3.12.3\n",
      "pyparsing                     2.4.2\n",
      "PyQt5                         5.15.6\n",
      "PyQt5-Qt5                     5.15.2\n",
      "PyQt5-sip                     12.9.0\n",
      "pyrsistent                    0.18.0\n",
      "python-dateutil               2.8.2\n",
      "python-slugify                5.0.2\n",
      "pytz                          2021.3\n",
      "pywin32                       224\n",
      "PyYAML                        5.3.1\n",
      "pyzmq                         22.3.0\n",
      "regex                         2022.1.18\n",
      "requests                      2.25.1\n",
      "requests-oauthlib             1.3.0\n",
      "rsa                           4.8\n",
      "sacrebleu                     2.0.0\n",
      "scikit-learn                  1.0.2\n",
      "scipy                         1.7.3\n",
      "sentencepiece                 0.1.96\n",
      "seqeval                       1.2.2\n",
      "setuptools                    60.5.0\n",
      "six                           1.15.0\n",
      "slim                          0.1       e:\\tensorflow object detection\\tfodcourse\\tensorflow\\models\\research\\slim\n",
      "tabulate                      0.8.9\n",
      "tensorboard                   2.8.0\n",
      "tensorboard-data-server       0.6.1\n",
      "tensorboard-plugin-wit        1.8.1\n",
      "tensorflow                    2.7.0\n",
      "tensorflow-addons             0.15.0\n",
      "tensorflow-datasets           4.5.0\n",
      "tensorflow-estimator          2.7.0\n",
      "tensorflow-hub                0.12.0\n",
      "tensorflow-io                 0.23.1\n",
      "tensorflow-io-gcs-filesystem  0.23.1\n",
      "tensorflow-metadata           1.6.0\n",
      "tensorflow-model-optimization 0.7.0\n",
      "tensorflow-text               2.7.3\n",
      "tensorflowjs                  3.13.0\n",
      "termcolor                     1.1.0\n",
      "testpath                      0.5.0\n",
      "text-unidecode                1.3\n",
      "tf-models-official            2.7.0\n",
      "tf-slim                       1.1.0\n",
      "threadpoolctl                 3.0.0\n",
      "tornado                       6.1\n",
      "tqdm                          4.62.3\n",
      "traitlets                     5.1.1\n",
      "typeguard                     2.13.3\n",
      "typing-extensions             3.7.4.3\n",
      "uritemplate                   4.1.1\n",
      "urllib3                       1.26.8\n",
      "wcwidth                       0.2.5\n",
      "webencodings                  0.5.1\n",
      "Werkzeug                      2.0.2\n",
      "wget                          3.2\n",
      "wheel                         0.37.1\n",
      "wrapt                         1.13.3\n",
      "zipp                          3.6.0\n"
     ]
    }
   ],
   "source": [
    "!pip list"
   ]
  },
  {
   "cell_type": "code",
   "execution_count": 11,
   "metadata": {},
   "outputs": [],
   "source": [
    "LABELIMG_PATH = os.path.join('Tensorflow', 'labelimg')"
   ]
  },
  {
   "cell_type": "code",
   "execution_count": 12,
   "metadata": {},
   "outputs": [],
   "source": [
    "if not os.path.exists(LABELIMG_PATH):\n",
    "    !mkdir {LABELIMG_PATH}\n",
    "    !git clone https://github.com/tzutalin/labelImg {LABELIMG_PATH}"
   ]
  },
  {
   "cell_type": "code",
   "execution_count": 13,
   "metadata": {},
   "outputs": [
    {
     "data": {
      "text/plain": [
       "'Tensorflow\\\\labelimg'"
      ]
     },
     "execution_count": 13,
     "metadata": {},
     "output_type": "execute_result"
    }
   ],
   "source": [
    "LABELIMG_PATH"
   ]
  },
  {
   "cell_type": "code",
   "execution_count": 14,
   "metadata": {},
   "outputs": [],
   "source": [
    "if os.name == 'posix':\n",
    "    !make qt5py3\n",
    "if os.name =='nt':\n",
    "    !cd {LABELIMG_PATH} && pyrcc5 -o libs/resources.py resources.qrc"
   ]
  },
  {
   "cell_type": "code",
   "execution_count": null,
   "metadata": {},
   "outputs": [],
   "source": [
    "!cd {LABELIMG_PATH} && python labelImg.py"
   ]
  },
  {
   "cell_type": "markdown",
   "metadata": {},
   "source": [
    "# 6. Move them into a Training and Testing Partition"
   ]
  },
  {
   "cell_type": "markdown",
   "metadata": {},
   "source": [
    "# OPTIONAL - 7. Compress them for Colab Training"
   ]
  },
  {
   "cell_type": "code",
   "execution_count": null,
   "metadata": {},
   "outputs": [],
   "source": [
    "'''TRAIN_PATH = os.path.join('Tensorflow', 'workspace', 'images', 'train')\n",
    "TEST_PATH = os.path.join('Tensorflow', 'workspace', 'images', 'test')\n",
    "ARCHIVE_PATH = os.path.join('Tensorflow', 'workspace', 'images', 'archive.tar.gz')\n",
    "'''"
   ]
  },
  {
   "cell_type": "code",
   "execution_count": 2,
   "metadata": {},
   "outputs": [
    {
     "data": {
      "text/plain": [
       "'!tar -czf {ARCHIVE_PATH} {TRAIN_PATH} {TEST_PATH}\\n'"
      ]
     },
     "execution_count": 2,
     "metadata": {},
     "output_type": "execute_result"
    }
   ],
   "source": [
    "'''!tar -czf {ARCHIVE_PATH} {TRAIN_PATH} {TEST_PATH}\n",
    "'''"
   ]
  },
  {
   "cell_type": "code",
   "execution_count": null,
   "metadata": {},
   "outputs": [],
   "source": []
  }
 ],
 "metadata": {
  "kernelspec": {
   "display_name": "tfod",
   "language": "python",
   "name": "tfod"
  },
  "language_info": {
   "codemirror_mode": {
    "name": "ipython",
    "version": 3
   },
   "file_extension": ".py",
   "mimetype": "text/x-python",
   "name": "python",
   "nbconvert_exporter": "python",
   "pygments_lexer": "ipython3",
   "version": "3.7.2"
  }
 },
 "nbformat": 4,
 "nbformat_minor": 2
}
